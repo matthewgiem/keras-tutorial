{
 "cells": [
  {
   "cell_type": "code",
   "execution_count": 10,
   "metadata": {},
   "outputs": [
    {
     "name": "stdout",
     "output_type": "stream",
     "text": [
      "Train on 22451 samples, validate on 2495 samples\n",
      "Epoch 1/5\n",
      "22451/22451 [==============================] - 774s 34ms/step - loss: 0.6022 - acc: 0.6630 - val_loss: 0.5150 - val_acc: 0.7555\n",
      "Epoch 2/5\n",
      "22451/22451 [==============================] - 862s 38ms/step - loss: 0.4691 - acc: 0.7760 - val_loss: 0.4873 - val_acc: 0.7627\n",
      "Epoch 3/5\n",
      "22451/22451 [==============================] - 1699s 76ms/step - loss: 0.4085 - acc: 0.8117 - val_loss: 0.4565 - val_acc: 0.7828\n",
      "Epoch 4/5\n",
      "22451/22451 [==============================] - 864s 38ms/step - loss: 0.3448 - acc: 0.8482 - val_loss: 0.4719 - val_acc: 0.7908\n",
      "Epoch 5/5\n",
      "22451/22451 [==============================] - 1835s 82ms/step - loss: 0.2848 - acc: 0.8781 - val_loss: 0.4949 - val_acc: 0.7892\n"
     ]
    },
    {
     "data": {
      "text/plain": [
       "<tensorflow.python.keras.callbacks.History at 0x11b640d30>"
      ]
     },
     "execution_count": 10,
     "metadata": {},
     "output_type": "execute_result"
    }
   ],
   "source": [
    "import tensorflow as tf\n",
    "from tensorflow.keras.datasets import cifar10\n",
    "from tensorflow.keras.preprocessing.image import ImageDataGenerator\n",
    "from tensorflow.keras.models import Sequential\n",
    "from tensorflow.keras.layers import Dense, Dropout, Activation, Flatten\n",
    "from tensorflow.keras.layers import Conv2D, MaxPooling2D\n",
    "from tensorflow.keras.callbacks import TensorBoard\n",
    "import pickle\n",
    "import time\n",
    "\n",
    "Name = 'Cats-vs-dog-cnn-64x2-{}'.format(int(time.time()))\n",
    "\n",
    "tensorboard = TensorBoard(log_dir='logs/{}'.format(Name))\n",
    "\n",
    "gpu_options = tf.GPUOptions(per_process_gpu_memory_fraction=0.333) # tells the computer to use only 33% of the\n",
    "sess = tf.Session(config=tf.ConfigProto(gpu_options=gpu_options)) # processor so you can do other functions\n",
    "\n",
    "X = pickle.load(open('cat_dog/train_X.pickle', 'rb'))\n",
    "y = pickle.load(open('cat_dog/train_y.pickle', 'rb'))\n",
    "\n",
    "X = X/255.0\n",
    "\n",
    "model = Sequential()\n",
    "\n",
    "model.add(Conv2D(64, (3,3), input_shape = X.shape[1:]))\n",
    "model.add(Activation('relu'))\n",
    "model.add(MaxPooling2D(pool_size=(2,2)))\n",
    "\n",
    "model.add(Conv2D(64, (3,3)))\n",
    "model.add(Activation('relu'))\n",
    "model.add(MaxPooling2D(pool_size=(2,2)))\n",
    "\n",
    "model.add(Flatten())\n",
    "\n",
    "model.add(Dense(64))\n",
    "model.add(Activation('relu'))\n",
    "\n",
    "model.add(Dense(1))\n",
    "model.add(Activation('sigmoid'))\n",
    "\n",
    "model.compile(loss='binary_crossentropy',\n",
    "             optimizer='adam',\n",
    "             metrics=['accuracy'])\n",
    "\n",
    "model.fit(X, y, batch_size=32, epochs=5, validation_split=0.1, callbacks=[tensorboard])"
   ]
  },
  {
   "cell_type": "code",
   "execution_count": null,
   "metadata": {},
   "outputs": [],
   "source": []
  }
 ],
 "metadata": {
  "kernelspec": {
   "display_name": "Python 3",
   "language": "python",
   "name": "python3"
  },
  "language_info": {
   "codemirror_mode": {
    "name": "ipython",
    "version": 3
   },
   "file_extension": ".py",
   "mimetype": "text/x-python",
   "name": "python",
   "nbconvert_exporter": "python",
   "pygments_lexer": "ipython3",
   "version": "3.6.5"
  }
 },
 "nbformat": 4,
 "nbformat_minor": 2
}
